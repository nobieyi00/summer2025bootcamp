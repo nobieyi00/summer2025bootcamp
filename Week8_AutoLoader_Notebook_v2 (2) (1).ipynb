{
 "cells": [
  {
   "cell_type": "markdown",
   "metadata": {
    "application/vnd.databricks.v1+cell": {
     "cellMetadata": {},
     "inputWidgets": {},
     "nuid": "7b096565-c4c6-494f-b85a-9024f60aa6f0",
     "showTitle": false,
     "tableResultSettingsMap": {},
     "title": ""
    }
   },
   "source": [
    "# Week 8: Spark Streaming in Databricks – Auto Loader & Ingestion Patterns (v2)"
   ]
  },
  {
   "cell_type": "markdown",
   "metadata": {
    "application/vnd.databricks.v1+cell": {
     "cellMetadata": {},
     "inputWidgets": {},
     "nuid": "573f0ff5-6333-4697-91ac-74c30338b7c5",
     "showTitle": false,
     "tableResultSettingsMap": {},
     "title": ""
    }
   },
   "source": [
    "**Goals:** incremental ingestion, discovery modes, checkpoints, schema evolution, Bronze→Silver"
   ]
  },
  {
   "cell_type": "code",
   "execution_count": 0,
   "metadata": {
    "application/vnd.databricks.v1+cell": {
     "cellMetadata": {
      "byteLimit": 2048000,
      "implicitDf": true,
      "rowLimit": 10000
     },
     "inputWidgets": {},
     "nuid": "694ab184-7ea3-495d-800b-f2a4f6347840",
     "showTitle": false,
     "tableResultSettingsMap": {},
     "title": ""
    }
   },
   "outputs": [],
   "source": [
    "%sql\n",
    "drop catalog al_catalog cascade"
   ]
  },
  {
   "cell_type": "code",
   "execution_count": 0,
   "metadata": {
    "application/vnd.databricks.v1+cell": {
     "cellMetadata": {
      "byteLimit": 2048000,
      "implicitDf": true,
      "rowLimit": 10000
     },
     "inputWidgets": {},
     "nuid": "f5e27240-d3f0-4512-b3ee-55fdd979cb50",
     "showTitle": true,
     "tableResultSettingsMap": {},
     "title": "Setup catalog"
    }
   },
   "outputs": [],
   "source": [
    "%sql\n",
    "create catalog newautoloader;\n",
    "\n",
    "create schema newautoloader.autoloader_schema;\n",
    "create volume newautoloader.autoloader_schema.autoloader_volume;\n",
    "\n",
    "\n"
   ]
  },
  {
   "cell_type": "markdown",
   "metadata": {
    "application/vnd.databricks.v1+cell": {
     "cellMetadata": {},
     "inputWidgets": {},
     "nuid": "1d1c11bc-a906-4295-8479-c769e23ff3cc",
     "showTitle": false,
     "tableResultSettingsMap": {},
     "title": ""
    }
   },
   "source": [
    "## 0. Setup (Paths & Widgets)"
   ]
  },
  {
   "cell_type": "code",
   "execution_count": 0,
   "metadata": {
    "application/vnd.databricks.v1+cell": {
     "cellMetadata": {
      "byteLimit": 2048000,
      "rowLimit": 10000
     },
     "inputWidgets": {},
     "nuid": "5c0d3cdd-8242-419c-b57f-f194a4b8c9de",
     "showTitle": false,
     "tableResultSettingsMap": {},
     "title": ""
    }
   },
   "outputs": [],
   "source": [
    "\n",
    "dbutils.widgets.text(\"base_path\", \"/Volumes/al_catalog/autoloader_schema/autoloader_volume\")\n",
    "dbutils.widgets.text(\"format\", \"json\")  # json | csv | parquet\n",
    "BASE = dbutils.widgets.get(\"base_path\").rstrip(\"/\")\n",
    "\n",
    "INPUT_PATH = f\"{BASE}/input\"\n",
    "CHECKPOINT = f\"{BASE}/checkpoints/bronze\"\n",
    "SCHEMA_LOC = f\"{BASE}/schema/bronze\"\n",
    "BRONZE_PATH = f\"{BASE}/tables/bronze\"\n",
    "SILVER_PATH = f\"{BASE}/tables/silver\"\n",
    "\n",
    "display({\"INPUT_PATH\": INPUT_PATH, \"CHECKPOINT\": CHECKPOINT, \"SCHEMA_LOC\": SCHEMA_LOC, \"BRONZE_PATH\": BRONZE_PATH, \"SILVER_PATH\": SILVER_PATH})\n"
   ]
  },
  {
   "cell_type": "markdown",
   "metadata": {
    "application/vnd.databricks.v1+cell": {
     "cellMetadata": {},
     "inputWidgets": {},
     "nuid": "212f9d22-ac2c-45d6-8b51-867a3e962741",
     "showTitle": false,
     "tableResultSettingsMap": {},
     "title": ""
    }
   },
   "source": [
    "## 1. Generate Sample Files"
   ]
  },
  {
   "cell_type": "code",
   "execution_count": 0,
   "metadata": {
    "application/vnd.databricks.v1+cell": {
     "cellMetadata": {
      "byteLimit": 2048000,
      "rowLimit": 10000
     },
     "inputWidgets": {},
     "nuid": "4183abe4-2d7f-4808-b3ed-9cf3c666c9d2",
     "showTitle": true,
     "tableResultSettingsMap": {},
     "title": "create sample data for processing"
    }
   },
   "outputs": [],
   "source": [
    "\n",
    "from pyspark.sql.functions import current_timestamp, expr, lit\n",
    "fmt = dbutils.widgets.get(\"format\")\n",
    "out = f\"{INPUT_PATH}/{fmt}\"\n",
    "df = (spark.range(30, 40).withColumnRenamed(\"id\",\"id\")\n",
    "      .withColumn(\"category\", expr(\"CASE WHEN id % 2 = 0 THEN 'A' ELSE 'B' END\"))\n",
    "      .withColumn(\"amount\", expr(\"round(rand()*100,2)\"))\n",
    "      .withColumn(\"ingest_ts\", current_timestamp()))\n",
    "(df.write.mode(\"append\").format(fmt).option(\"header\",\"true\").save(out))\n",
    "print(\"Seeded files:\", out)\n"
   ]
  },
  {
   "cell_type": "code",
   "execution_count": 0,
   "metadata": {
    "application/vnd.databricks.v1+cell": {
     "cellMetadata": {
      "byteLimit": 2048000,
      "rowLimit": 10000
     },
     "inputWidgets": {},
     "nuid": "4141455d-9f0f-48a4-b02d-1429b09f5940",
     "showTitle": false,
     "tableResultSettingsMap": {},
     "title": ""
    }
   },
   "outputs": [],
   "source": [
    "df = spark.read.format(\"json\").load(f\"{INPUT_PATH}/{fmt}\")\n",
    "df. display()"
   ]
  },
  {
   "cell_type": "markdown",
   "metadata": {
    "application/vnd.databricks.v1+cell": {
     "cellMetadata": {},
     "inputWidgets": {},
     "nuid": "4dddca2e-d59a-479b-9990-709738847502",
     "showTitle": false,
     "tableResultSettingsMap": {},
     "title": ""
    }
   },
   "source": [
    "## 2. Start Auto Loader (Directory Listing)"
   ]
  },
  {
   "cell_type": "code",
   "execution_count": 0,
   "metadata": {
    "application/vnd.databricks.v1+cell": {
     "cellMetadata": {
      "byteLimit": 2048000,
      "rowLimit": 10000
     },
     "inputWidgets": {},
     "nuid": "8dea8bd5-d232-4238-b894-69cef9b0d0a1",
     "showTitle": true,
     "tableResultSettingsMap": {},
     "title": "append only processing"
    }
   },
   "outputs": [],
   "source": [
    "\n",
    "fmt = dbutils.widgets.get(\"format\")\n",
    "raw_stream = (spark.readStream.format(\"cloudFiles\")\n",
    "    .option(\"cloudFiles.format\", fmt)\n",
    "    .option(\"cloudFiles.schemaLocation\", SCHEMA_LOC)\n",
    "    .option(\"cloudFiles.inferColumnTypes\", \"true\")\n",
    "    .load(f\"{INPUT_PATH}/{fmt}\")\n",
    ")\n",
    "bronze_query = (raw_stream.writeStream.format(\"delta\")\n",
    "    .option(\"checkpointLocation\", CHECKPOINT)\n",
    "    .option(\"mergeSchema\", \"true\")\n",
    "    .outputMode(\"append\")\n",
    "    .trigger(availableNow=True)\n",
    "    .start(BRONZE_PATH))\n",
    "bronze_query\n"
   ]
  },
  {
   "cell_type": "code",
   "execution_count": 0,
   "metadata": {
    "application/vnd.databricks.v1+cell": {
     "cellMetadata": {
      "byteLimit": 2048000,
      "rowLimit": 10000
     },
     "inputWidgets": {},
     "nuid": "040d3089-d4a7-451c-8b05-2da735d5ea87",
     "showTitle": false,
     "tableResultSettingsMap": {},
     "title": ""
    }
   },
   "outputs": [],
   "source": [
    "spark.read.format(\"delta\").load('/Volumes/al_catalog/autoloader_schema/autoloader_volume/tables/bronze').display()"
   ]
  },
  {
   "cell_type": "markdown",
   "metadata": {
    "application/vnd.databricks.v1+cell": {
     "cellMetadata": {},
     "inputWidgets": {},
     "nuid": "bcc0acdb-647d-4151-9ccf-fb69b2c3244f",
     "showTitle": false,
     "tableResultSettingsMap": {},
     "title": ""
    }
   },
   "source": [
    "### Monitor Bronze"
   ]
  },
  {
   "cell_type": "code",
   "execution_count": 0,
   "metadata": {
    "application/vnd.databricks.v1+cell": {
     "cellMetadata": {
      "byteLimit": 2048000,
      "rowLimit": 10000
     },
     "inputWidgets": {},
     "nuid": "080e86b3-84d6-4c06-9e97-5930ed441f47",
     "showTitle": false,
     "tableResultSettingsMap": {},
     "title": ""
    }
   },
   "outputs": [],
   "source": [
    "\n",
    "print(bronze_query.status)\n",
    "import time\n",
    "for i in range(3):\n",
    "    time.sleep(5)\n",
    "    print(\"Bronze count:\", spark.read.format(\"delta\").load(BRONZE_PATH).count())\n"
   ]
  },
  {
   "cell_type": "markdown",
   "metadata": {
    "application/vnd.databricks.v1+cell": {
     "cellMetadata": {},
     "inputWidgets": {},
     "nuid": "c7cbdda2-7720-48a2-801a-91725ce9d668",
     "showTitle": false,
     "tableResultSettingsMap": {},
     "title": ""
    }
   },
   "source": [
    "## 3. Schema Evolution (Add Column)"
   ]
  },
  {
   "cell_type": "code",
   "execution_count": 0,
   "metadata": {
    "application/vnd.databricks.v1+cell": {
     "cellMetadata": {
      "byteLimit": 2048000,
      "rowLimit": 10000
     },
     "inputWidgets": {},
     "nuid": "7588e271-db11-4a28-8312-b9dc163abf6a",
     "showTitle": false,
     "tableResultSettingsMap": {},
     "title": ""
    }
   },
   "outputs": [],
   "source": [
    "\n",
    "from pyspark.sql.functions import lit\n",
    "fmt = dbutils.widgets.get(\"format\")\n",
    "evo = (spark.range(20, 25).withColumnRenamed(\"id\",\"id\")\n",
    "       .withColumn(\"category\", lit(\"C\"))\n",
    "       .withColumn(\"amount\", lit(42.0))\n",
    "       .withColumn(\"source\", lit(\"extra\")))\n",
    "(evo.write.mode(\"append\").format(fmt).option(\"header\",\"true\").save(f\"{INPUT_PATH}/{fmt}\"))\n",
    "print(\"Appended files with new 'source' column.\")\n"
   ]
  },
  {
   "cell_type": "code",
   "execution_count": 0,
   "metadata": {
    "application/vnd.databricks.v1+cell": {
     "cellMetadata": {
      "byteLimit": 2048000,
      "rowLimit": 10000
     },
     "inputWidgets": {},
     "nuid": "02399562-caa2-4d3e-adcc-68c42691c11c",
     "showTitle": true,
     "tableResultSettingsMap": {},
     "title": "reprocess default behavior"
    }
   },
   "outputs": [],
   "source": [
    "fmt = dbutils.widgets.get(\"format\")\n",
    "raw_stream = (spark.readStream.format(\"cloudFiles\")\n",
    "    .option(\"cloudFiles.format\", fmt)\n",
    "    .option(\"cloudFiles.schemaLocation\", SCHEMA_LOC)\n",
    "    .option(\"cloudFiles.inferColumnTypes\", \"true\")\n",
    "    .load(f\"{INPUT_PATH}/{fmt}\")\n",
    ")\n",
    "bronze_query = (raw_stream.writeStream.format(\"delta\")\n",
    "    .option(\"checkpointLocation\", CHECKPOINT)\n",
    "    .option(\"mergeSchema\", \"true\")\n",
    "    .outputMode(\"append\")\n",
    "    .trigger(availableNow=True)\n",
    "    .start(BRONZE_PATH))\n",
    "bronze_query"
   ]
  },
  {
   "cell_type": "code",
   "execution_count": 0,
   "metadata": {
    "application/vnd.databricks.v1+cell": {
     "cellMetadata": {
      "byteLimit": 2048000,
      "rowLimit": 10000
     },
     "inputWidgets": {},
     "nuid": "6aff7f3c-ce7a-4624-8d87-4cbb08da95b1",
     "showTitle": false,
     "tableResultSettingsMap": {},
     "title": ""
    }
   },
   "outputs": [],
   "source": [
    "spark.read.format(\"delta\").load('/Volumes/al_catalog/autoloader_schema/autoloader_volume/tables/bronze').display()"
   ]
  },
  {
   "cell_type": "markdown",
   "metadata": {
    "application/vnd.databricks.v1+cell": {
     "cellMetadata": {},
     "inputWidgets": {},
     "nuid": "25e0fbfe-9f59-484b-84a5-175ec0637f4f",
     "showTitle": false,
     "tableResultSettingsMap": {},
     "title": ""
    }
   },
   "source": [
    "##Run with schema evolution-  Merge schema = true\n"
   ]
  },
  {
   "cell_type": "code",
   "execution_count": 0,
   "metadata": {
    "application/vnd.databricks.v1+cell": {
     "cellMetadata": {
      "byteLimit": 2048000,
      "rowLimit": 10000
     },
     "inputWidgets": {},
     "nuid": "ea8b654f-4404-445e-bcb9-63ba493697bd",
     "showTitle": false,
     "tableResultSettingsMap": {},
     "title": ""
    }
   },
   "outputs": [],
   "source": [
    "fmt = dbutils.widgets.get(\"format\")\n",
    "raw_stream = (spark.readStream.format(\"cloudFiles\")\n",
    "    .option(\"cloudFiles.format\", fmt)\n",
    "    .option(\"cloudFiles.schemaLocation\", SCHEMA_LOC)\n",
    "    .option(\"cloudFiles.inferColumnTypes\", \"true\")\n",
    "    .load(f\"{INPUT_PATH}/{fmt}\")\n",
    ")\n",
    "bronze_query = (raw_stream.writeStream.format(\"delta\")\n",
    "    .option(\"checkpointLocation\", CHECKPOINT)\n",
    "    .option(\"mergeSchema\", \"true\")\n",
    "    .outputMode(\"append\")\n",
    "    .trigger(availableNow=True)\n",
    "    .start(BRONZE_PATH))\n",
    "bronze_query"
   ]
  },
  {
   "cell_type": "markdown",
   "metadata": {
    "application/vnd.databricks.v1+cell": {
     "cellMetadata": {},
     "inputWidgets": {},
     "nuid": "03389473-7e12-46d8-b31e-afe39a414d6a",
     "showTitle": false,
     "tableResultSettingsMap": {},
     "title": ""
    }
   },
   "source": [
    "### Validate"
   ]
  },
  {
   "cell_type": "code",
   "execution_count": 0,
   "metadata": {
    "application/vnd.databricks.v1+cell": {
     "cellMetadata": {
      "byteLimit": 2048000,
      "rowLimit": 10000
     },
     "inputWidgets": {},
     "nuid": "4d8f50f0-197c-454f-acc3-eafd95e57847",
     "showTitle": false,
     "tableResultSettingsMap": {},
     "title": ""
    }
   },
   "outputs": [],
   "source": [
    "\n",
    "import time; time.sleep(10)\n",
    "br = spark.read.format(\"delta\").load(BRONZE_PATH)\n",
    "br.printSchema()\n",
    "display(br.orderBy('id').limit(30))\n"
   ]
  },
  {
   "cell_type": "markdown",
   "metadata": {
    "application/vnd.databricks.v1+cell": {
     "cellMetadata": {},
     "inputWidgets": {},
     "nuid": "ba5715eb-579d-417b-9a86-c98bd3bcd938",
     "showTitle": false,
     "tableResultSettingsMap": {},
     "title": ""
    }
   },
   "source": [
    "## 4. Silver Stream"
   ]
  },
  {
   "cell_type": "code",
   "execution_count": 0,
   "metadata": {
    "application/vnd.databricks.v1+cell": {
     "cellMetadata": {
      "byteLimit": 2048000,
      "rowLimit": 10000
     },
     "inputWidgets": {},
     "nuid": "a84dc594-e1f3-40a4-aaf7-0f80aaf99836",
     "showTitle": true,
     "tableResultSettingsMap": {},
     "title": "not free version"
    }
   },
   "outputs": [],
   "source": [
    "\n",
    "from pyspark.sql.functions import col\n",
    "silver_df = spark.readStream.format(\"delta\").load(BRONZE_PATH)\n",
    "silver_clean = silver_df.filter(col(\"amount\").isNotNull())\n",
    "silver_query = (silver_clean.writeStream.format(\"delta\")\n",
    "    .option(\"checkpointLocation\", f\"{BASE}/checkpoints/silver\")\n",
    "    .outputMode(\"append\").trigger(processingTime=\"15 seconds\").start(SILVER_PATH))\n",
    "silver_query\n"
   ]
  },
  {
   "cell_type": "markdown",
   "metadata": {
    "application/vnd.databricks.v1+cell": {
     "cellMetadata": {},
     "inputWidgets": {},
     "nuid": "0da6583f-2a06-4fdb-a0a9-5ff4964b76bf",
     "showTitle": false,
     "tableResultSettingsMap": {},
     "title": ""
    }
   },
   "source": [
    "## 5. File Notifications Template (Azure)"
   ]
  },
  {
   "cell_type": "code",
   "execution_count": 0,
   "metadata": {
    "application/vnd.databricks.v1+cell": {
     "cellMetadata": {
      "byteLimit": 2048000,
      "rowLimit": 10000
     },
     "inputWidgets": {},
     "nuid": "238138d1-a3dd-47cd-818f-7bb0334a6008",
     "showTitle": false,
     "tableResultSettingsMap": {},
     "title": ""
    }
   },
   "outputs": [],
   "source": [
    "\n",
    "# Requires Event Grid + Queue configured on ADLS\n",
    "abfss_path = \"abfss://<container>@<account>.dfs.core.windows.net/<prefix>\"\n",
    "notif_stream = (spark.readStream.format(\"cloudFiles\")\n",
    "    .option(\"cloudFiles.format\", \"json\")\n",
    "    .option(\"cloudFiles.schemaLocation\", f\"{BASE}/schema/bronze_abfss\")\n",
    "    .option(\"cloudFiles.useNotifications\", \"true\")\n",
    "    .load(abfss_path))\n",
    "notif_query = (notif_stream.writeStream.format(\"delta\")\n",
    "    .option(\"checkpointLocation\", f\"{BASE}/checkpoints/bronze_abfss\")\n",
    "    .start(f\"{BASE}/tables/bronze_abfss\"))\n",
    "notif_query\n"
   ]
  },
  {
   "cell_type": "markdown",
   "metadata": {
    "application/vnd.databricks.v1+cell": {
     "cellMetadata": {},
     "inputWidgets": {},
     "nuid": "d25b68a5-3910-42e1-bbcb-219aeddfd7da",
     "showTitle": false,
     "tableResultSettingsMap": {},
     "title": ""
    }
   },
   "source": [
    "## 6. Backfill with availableNow"
   ]
  },
  {
   "cell_type": "code",
   "execution_count": 0,
   "metadata": {
    "application/vnd.databricks.v1+cell": {
     "cellMetadata": {
      "byteLimit": 2048000,
      "rowLimit": 10000
     },
     "inputWidgets": {},
     "nuid": "a0aa329c-46fa-4a17-87f8-285db62acc6f",
     "showTitle": false,
     "tableResultSettingsMap": {},
     "title": ""
    }
   },
   "outputs": [],
   "source": [
    "\n",
    "backfill = (spark.readStream.format(\"cloudFiles\")\n",
    "    .option(\"cloudFiles.format\", dbutils.widgets.get(\"format\"))\n",
    "    .option(\"cloudFiles.schemaLocation\", f\"{BASE}/schema/backfill\")\n",
    "    .load(f\"{INPUT_PATH}/{dbutils.widgets.get('format')}\"))\n",
    "backfill_query = (backfill.writeStream.format(\"delta\")\n",
    "    .option(\"checkpointLocation\", f\"{BASE}/checkpoints/backfill\")\n",
    "    .trigger(availableNow=True)\n",
    "    .start(f\"{BASE}/tables/backfill\"))\n",
    "backfill_query.awaitTermination()\n"
   ]
  },
  {
   "cell_type": "markdown",
   "metadata": {
    "application/vnd.databricks.v1+cell": {
     "cellMetadata": {},
     "inputWidgets": {},
     "nuid": "3beb3392-ce6b-48f1-8370-f1639db08627",
     "showTitle": false,
     "tableResultSettingsMap": {},
     "title": ""
    }
   },
   "source": [
    "## 7. Bad Records Path"
   ]
  },
  {
   "cell_type": "code",
   "execution_count": 0,
   "metadata": {
    "application/vnd.databricks.v1+cell": {
     "cellMetadata": {
      "byteLimit": 2048000,
      "rowLimit": 10000
     },
     "inputWidgets": {},
     "nuid": "7ef24148-ea14-482e-b3f4-073d915827cc",
     "showTitle": false,
     "tableResultSettingsMap": {},
     "title": ""
    }
   },
   "outputs": [],
   "source": [
    "\n",
    "fmt = dbutils.widgets.get(\"format\")\n",
    "raw_stream_bad = (spark.readStream.format(\"cloudFiles\")\n",
    "    .option(\"cloudFiles.format\", fmt)\n",
    "    .option(\"cloudFiles.schemaLocation\", f\"{BASE}/schema/bad\")\n",
    "    .option(\"badRecordsPath\", f\"{BASE}/bad_records\")\n",
    "    .load(f\"{INPUT_PATH}/{fmt}\"))\n",
    "raw_stream_bad.isStreaming\n"
   ]
  },
  {
   "cell_type": "code",
   "execution_count": 0,
   "metadata": {
    "application/vnd.databricks.v1+cell": {
     "cellMetadata": {
      "byteLimit": 2048000,
      "rowLimit": 10000
     },
     "inputWidgets": {},
     "nuid": "4e5ecd3c-c553-48e1-a506-68e2b6f2ac3f",
     "showTitle": true,
     "tableResultSettingsMap": {},
     "title": "na free"
    }
   },
   "outputs": [],
   "source": [
    "display(raw_stream_bad )"
   ]
  },
  {
   "cell_type": "markdown",
   "metadata": {
    "application/vnd.databricks.v1+cell": {
     "cellMetadata": {},
     "inputWidgets": {},
     "nuid": "eb21e6f1-b0b2-4fa6-b206-39d75d23db84",
     "showTitle": false,
     "tableResultSettingsMap": {},
     "title": ""
    }
   },
   "source": [
    "## 8. Cleanup"
   ]
  },
  {
   "cell_type": "code",
   "execution_count": 0,
   "metadata": {
    "application/vnd.databricks.v1+cell": {
     "cellMetadata": {
      "byteLimit": 2048000,
      "rowLimit": 10000
     },
     "inputWidgets": {},
     "nuid": "3e5ba8cb-af7a-42aa-a0a3-0317f3cdf3e0",
     "showTitle": false,
     "tableResultSettingsMap": {},
     "title": ""
    }
   },
   "outputs": [],
   "source": [
    "\n",
    "for q in spark.streams.active:\n",
    "    print(\"Stopping:\", q.name or q.id)\n",
    "    q.stop()\n"
   ]
  },
  {
   "cell_type": "markdown",
   "metadata": {
    "application/vnd.databricks.v1+cell": {
     "cellMetadata": {},
     "inputWidgets": {},
     "nuid": "e237d639-83fb-486b-9bd2-506e6018d67c",
     "showTitle": false,
     "tableResultSettingsMap": {},
     "title": ""
    }
   },
   "source": [
    "If I wanted to do a Merge Upsert instead of append only"
   ]
  },
  {
   "cell_type": "code",
   "execution_count": 0,
   "metadata": {
    "application/vnd.databricks.v1+cell": {
     "cellMetadata": {
      "byteLimit": 2048000,
      "rowLimit": 10000
     },
     "inputWidgets": {},
     "nuid": "468acf1d-bddf-4df4-a933-1d400b959a97",
     "showTitle": false,
     "tableResultSettingsMap": {},
     "title": ""
    }
   },
   "outputs": [],
   "source": [
    "fmt = dbutils.widgets.get(\"format\")\n",
    "raw_stream = (spark.readStream.format(\"cloudFiles\")\n",
    "    .option(\"cloudFiles.format\", fmt)\n",
    "    .option(\"cloudFiles.schemaLocation\", SCHEMA_LOC)\n",
    "    .option(\"cloudFiles.inferColumnTypes\", \"true\")\n",
    "    .load(f\"{INPUT_PATH}/{fmt}\")\n",
    ")"
   ]
  },
  {
   "cell_type": "code",
   "execution_count": 0,
   "metadata": {
    "application/vnd.databricks.v1+cell": {
     "cellMetadata": {
      "byteLimit": 2048000,
      "rowLimit": 10000
     },
     "inputWidgets": {},
     "nuid": "9e9e52fe-83ca-4f68-9ae0-04f620921a06",
     "showTitle": false,
     "tableResultSettingsMap": {
      "0": {
       "dataGridStateBlob": "{\"version\":1,\"tableState\":{\"columnPinning\":{\"left\":[\"#row_number#\"],\"right\":[]},\"columnSizing\":{},\"columnVisibility\":{}},\"settings\":{\"columns\":{}},\"syncTimestamp\":1757471006676}",
       "filterBlob": null,
       "queryPlanFiltersBlob": null,
       "tableResultIndex": 0
      }
     },
     "title": ""
    }
   },
   "outputs": [],
   "source": [
    "from delta.tables import DeltaTable\n",
    "from pyspark.sql.window import Window\n",
    "from pyspark.sql.functions import row_number, desc\n",
    "\n",
    "def merge_upsert(microBatchOutputDF, batchId):\n",
    "    # Define a window specification to order by 'ingest_ts' and partition by 'id'\n",
    "    windowSpec = Window.partitionBy(\"id\").orderBy(desc(\"ingest_ts\"))\n",
    "    \n",
    "    # Add a row number to each partition and filter to keep only the latest record\n",
    "    dedupedDF = (microBatchOutputDF\n",
    "                 .withColumn(\"row_num\", row_number().over(windowSpec))\n",
    "                 .filter(\"row_num = 1\")\n",
    "                 .drop(\"row_num\"))\n",
    "    \n",
    "    deltaTable = DeltaTable.forPath(spark, BRONZE_PATH)\n",
    "    deltaTable.alias(\"t\").merge(\n",
    "        dedupedDF.alias(\"u\"),\n",
    "        \"u.id = t.id\"\n",
    "    ).whenMatchedUpdateAll().whenNotMatchedInsertAll().execute()\n",
    "\n",
    "bronze_query = (raw_stream.writeStream\n",
    "    .format(\"delta\")\n",
    "    .option(\"checkpointLocation\", CHECKPOINT)\n",
    "    .foreachBatch(merge_upsert)\n",
    "    .option(\"mergeSchema\", \"true\")\n",
    "    .outputMode(\"append\")\n",
    "    .trigger(availableNow=True)\n",
    "    .start(BRONZE_PATH))\n",
    "\n",
    "bronze_query.awaitTermination()\n",
    "display(spark.read.load(BRONZE_PATH))"
   ]
  },
  {
   "cell_type": "code",
   "execution_count": 0,
   "metadata": {
    "application/vnd.databricks.v1+cell": {
     "cellMetadata": {
      "byteLimit": 2048000,
      "rowLimit": 10000
     },
     "inputWidgets": {},
     "nuid": "5b6a86bf-0eb6-45ba-86b0-1741d347f9d0",
     "showTitle": true,
     "tableResultSettingsMap": {},
     "title": "Generate data Appendix"
    }
   },
   "outputs": [],
   "source": [
    "from pyspark.sql.functions import current_timestamp, expr, lit\n",
    "fmt = 'json'\n",
    "out = f\"abfss://raw@adlssummer2025.dfs.core.windows.net/autoloader_input/input/json\"\n",
    "df = (spark.range(0, 5).withColumnRenamed(\"id\",\"id\")\n",
    "      .withColumn(\"category\", expr(\"CASE WHEN id % 2 = 0 THEN 'A' ELSE 'B' END\"))\n",
    "      .withColumn(\"amount\", expr(\"round(rand()*100,4)\"))\n",
    "      .withColumn(\"ingest_ts\", current_timestamp()))\n",
    "df.display()\n",
    "(df.write.mode(\"append\").format(fmt).option(\"header\",\"true\").save(out))"
   ]
  }
 ],
 "metadata": {
  "application/vnd.databricks.v1+notebook": {
   "computePreferences": {
    "hardware": {
     "accelerator": null,
     "gpuPoolId": null,
     "memory": null
    }
   },
   "dashboards": [],
   "environmentMetadata": null,
   "inputWidgetPreferences": null,
   "language": "python",
   "notebookMetadata": {
    "mostRecentlyExecutedCommandWithImplicitDF": {
     "commandId": 8144128594257628,
     "dataframes": [
      "_sqldf"
     ]
    },
    "pythonIndentUnit": 4
   },
   "notebookName": "Week8_AutoLoader_Notebook_v2 (2)",
   "widgets": {
    "base_path": {
     "currentValue": "/Volumes/al_catalog/autoloader_schema/autoloader_volume",
     "nuid": "2dd20c02-63fb-4f46-b9fe-d7080d2f17f6",
     "typedWidgetInfo": {
      "autoCreated": false,
      "defaultValue": "/Volumes/al_catalog/autoloader_schema/autoloader_volume",
      "label": null,
      "name": "base_path",
      "options": {
       "widgetDisplayType": "Text",
       "validationRegex": null
      },
      "parameterDataType": "String"
     },
     "widgetInfo": {
      "widgetType": "text",
      "defaultValue": "/Volumes/al_catalog/autoloader_schema/autoloader_volume",
      "label": null,
      "name": "base_path",
      "options": {
       "widgetType": "text",
       "autoCreated": null,
       "validationRegex": null
      }
     }
    },
    "format": {
     "currentValue": "json",
     "nuid": "ae54c6c9-dd33-4400-9b81-8c8cf5a2ff5a",
     "typedWidgetInfo": {
      "autoCreated": false,
      "defaultValue": "json",
      "label": null,
      "name": "format",
      "options": {
       "widgetDisplayType": "Text",
       "validationRegex": null
      },
      "parameterDataType": "String"
     },
     "widgetInfo": {
      "widgetType": "text",
      "defaultValue": "json",
      "label": null,
      "name": "format",
      "options": {
       "widgetType": "text",
       "autoCreated": null,
       "validationRegex": null
      }
     }
    }
   }
  },
  "kernelspec": {
   "display_name": "Python 3",
   "name": "python3"
  },
  "language_info": {
   "name": "python"
  },
  "name": "Week 8 – Auto Loader & Ingestion Patterns (v2)"
 },
 "nbformat": 4,
 "nbformat_minor": 0
}